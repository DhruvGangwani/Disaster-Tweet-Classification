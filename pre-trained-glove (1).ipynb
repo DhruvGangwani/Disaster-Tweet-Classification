{
 "cells": [
  {
   "cell_type": "markdown",
   "metadata": {},
   "source": [
    "# **IMPORT DATA**"
   ]
  },
  {
   "cell_type": "code",
   "execution_count": 1,
   "metadata": {
    "_cell_guid": "79c7e3d0-c299-4dcb-8224-4455121ee9b0",
    "_uuid": "d629ff2d2480ee46fbb7e2d37f6b5fab8052498a"
   },
   "outputs": [
    {
     "data": {
      "text/html": [
       "<div>\n",
       "<style scoped>\n",
       "    .dataframe tbody tr th:only-of-type {\n",
       "        vertical-align: middle;\n",
       "    }\n",
       "\n",
       "    .dataframe tbody tr th {\n",
       "        vertical-align: top;\n",
       "    }\n",
       "\n",
       "    .dataframe thead th {\n",
       "        text-align: right;\n",
       "    }\n",
       "</style>\n",
       "<table border=\"1\" class=\"dataframe\">\n",
       "  <thead>\n",
       "    <tr style=\"text-align: right;\">\n",
       "      <th></th>\n",
       "      <th>id</th>\n",
       "      <th>keyword</th>\n",
       "      <th>location</th>\n",
       "      <th>text</th>\n",
       "      <th>target</th>\n",
       "    </tr>\n",
       "  </thead>\n",
       "  <tbody>\n",
       "    <tr>\n",
       "      <th>0</th>\n",
       "      <td>1</td>\n",
       "      <td>NaN</td>\n",
       "      <td>NaN</td>\n",
       "      <td>Our Deeds are the Reason of this #earthquake M...</td>\n",
       "      <td>1</td>\n",
       "    </tr>\n",
       "    <tr>\n",
       "      <th>1</th>\n",
       "      <td>4</td>\n",
       "      <td>NaN</td>\n",
       "      <td>NaN</td>\n",
       "      <td>Forest fire near La Ronge Sask. Canada</td>\n",
       "      <td>1</td>\n",
       "    </tr>\n",
       "    <tr>\n",
       "      <th>2</th>\n",
       "      <td>5</td>\n",
       "      <td>NaN</td>\n",
       "      <td>NaN</td>\n",
       "      <td>All residents asked to 'shelter in place' are ...</td>\n",
       "      <td>1</td>\n",
       "    </tr>\n",
       "    <tr>\n",
       "      <th>3</th>\n",
       "      <td>6</td>\n",
       "      <td>NaN</td>\n",
       "      <td>NaN</td>\n",
       "      <td>13,000 people receive #wildfires evacuation or...</td>\n",
       "      <td>1</td>\n",
       "    </tr>\n",
       "    <tr>\n",
       "      <th>4</th>\n",
       "      <td>7</td>\n",
       "      <td>NaN</td>\n",
       "      <td>NaN</td>\n",
       "      <td>Just got sent this photo from Ruby #Alaska as ...</td>\n",
       "      <td>1</td>\n",
       "    </tr>\n",
       "  </tbody>\n",
       "</table>\n",
       "</div>"
      ],
      "text/plain": [
       "   id keyword location                                               text  \\\n",
       "0   1     NaN      NaN  Our Deeds are the Reason of this #earthquake M...   \n",
       "1   4     NaN      NaN             Forest fire near La Ronge Sask. Canada   \n",
       "2   5     NaN      NaN  All residents asked to 'shelter in place' are ...   \n",
       "3   6     NaN      NaN  13,000 people receive #wildfires evacuation or...   \n",
       "4   7     NaN      NaN  Just got sent this photo from Ruby #Alaska as ...   \n",
       "\n",
       "   target  \n",
       "0       1  \n",
       "1       1  \n",
       "2       1  \n",
       "3       1  \n",
       "4       1  "
      ]
     },
     "execution_count": 1,
     "metadata": {},
     "output_type": "execute_result"
    }
   ],
   "source": [
    "import pandas as pd\n",
    "train_data = pd.read_csv('../input/nlp-getting-started/train.csv')\n",
    "test_data = pd.read_csv('../input/nlp-getting-started/test.csv')\n",
    "train_data.head()"
   ]
  },
  {
   "cell_type": "code",
   "execution_count": 2,
   "metadata": {},
   "outputs": [
    {
     "name": "stderr",
     "output_type": "stream",
     "text": [
      "/opt/conda/lib/python3.6/site-packages/ipykernel_launcher.py:1: FutureWarning: Sorting because non-concatenation axis is not aligned. A future version\n",
      "of pandas will change to not sort by default.\n",
      "\n",
      "To accept the future behavior, pass 'sort=False'.\n",
      "\n",
      "To retain the current behavior and silence the warning, pass 'sort=True'.\n",
      "\n",
      "  \"\"\"Entry point for launching an IPython kernel.\n",
      "/opt/conda/lib/python3.6/site-packages/numpy/lib/histograms.py:839: RuntimeWarning: invalid value encountered in greater_equal\n",
      "  keep = (tmp_a >= first_edge)\n",
      "/opt/conda/lib/python3.6/site-packages/numpy/lib/histograms.py:840: RuntimeWarning: invalid value encountered in less_equal\n",
      "  keep &= (tmp_a <= last_edge)\n"
     ]
    },
    {
     "name": "stdout",
     "output_type": "stream",
     "text": [
      "                 id      target\n",
      "count  10876.000000  7613.00000\n",
      "mean    5437.500000     0.42966\n",
      "std     3139.775098     0.49506\n",
      "min        0.000000     0.00000\n",
      "25%     2718.750000     0.00000\n",
      "50%     5437.500000     0.00000\n",
      "75%     8156.250000     1.00000\n",
      "max    10875.000000     1.00000\n"
     ]
    },
    {
     "data": {
      "image/png": "[encoded data removed]",
      "text/plain": [
       "<Figure size 432x288 with 1 Axes>"
      ]
     },
     "metadata": {
      "needs_background": "light"
     },
     "output_type": "display_data"
    }
   ],
   "source": [
    "data = pd.concat([train_data,test_data],axis=0)\n",
    "print(data.describe())\n",
    "import matplotlib.pyplot as plt\n",
    "plt.hist(data.target)\n",
    "plt.show()"
   ]
  },
  {
   "cell_type": "markdown",
   "metadata": {},
   "source": [
    "# **TEXT PREPROCESSING**"
   ]
  },
  {
   "cell_type": "code",
   "execution_count": 3,
   "metadata": {},
   "outputs": [],
   "source": [
    "import re\n",
    "\n",
    "def decontracted(phrase):\n",
    "    # specific\n",
    "    phrase = re.sub(r\"won\\'t\", \"will not\", phrase)\n",
    "    phrase = re.sub(r\"can\\'t\", \"can not\", phrase)\n",
    "\n",
    "    # general\n",
    "    phrase = re.sub(r\"n\\'t\", \" not\", phrase)\n",
    "    phrase = re.sub(r\"\\'re\", \" are\", phrase)\n",
    "    phrase = re.sub(r\"\\'s\", \" is\", phrase)\n",
    "    phrase = re.sub(r\"\\'d\", \" would\", phrase)\n",
    "    phrase = re.sub(r\"\\'ll\", \" will\", phrase)\n",
    "    phrase = re.sub(r\"\\'t\", \" not\", phrase)\n",
    "    phrase = re.sub(r\"\\'ve\", \" have\", phrase)\n",
    "    phrase = re.sub(r\"\\'m\", \" am\", phrase)\n",
    "    return phrase"
   ]
  },
  {
   "cell_type": "code",
   "execution_count": 4,
   "metadata": {},
   "outputs": [],
   "source": [
    "import spacy\n",
    "nlp = spacy.load('en')\n",
    "def preprocessing(text):\n",
    "  text = text.replace('#','')\n",
    "  text = decontracted(text)\n",
    "  text = re.sub('\\S*@\\S*\\s?','',text)\n",
    "  text = re.sub('http[s]?:(?:[a-zA-Z]|[0-9]|[$-_@.&+]|[!*\\(\\),]|(?:%[0-9a-fA-F][0-9a-fA-F]))+','',text)\n",
    "\n",
    "  token=[]\n",
    "  result=''\n",
    "  text = re.sub('[^A-z]', ' ',text.lower())\n",
    "  \n",
    "  text = nlp(text)\n",
    "  for t in text:\n",
    "    if not t.is_stop and len(t)>2:  \n",
    "      token.append(t.lemma_)\n",
    "  result = ' '.join([i for i in token])\n",
    "\n",
    "  return result.strip()"
   ]
  },
  {
   "cell_type": "code",
   "execution_count": 5,
   "metadata": {},
   "outputs": [],
   "source": [
    "data.text = data.text.apply(lambda x : preprocessing(x))"
   ]
  },
  {
   "cell_type": "markdown",
   "metadata": {},
   "source": [
    "# **USING PRE-TRAINED GLOVE WEIGHTS**"
   ]
  },
  {
   "cell_type": "code",
   "execution_count": 6,
   "metadata": {},
   "outputs": [],
   "source": [
    "from nltk.tokenize import word_tokenize\n",
    "from tqdm import tqdm\n",
    "from nltk.corpus import stopwords\n",
    "stop=set(stopwords.words('english'))\n",
    "def create_corpus(df):\n",
    "    corpus=[]\n",
    "    for tweet in tqdm(df['text']):\n",
    "        words=[word.lower() for word in word_tokenize(tweet) if((word.isalpha()==1) & (word not in stop))]\n",
    "        corpus.append(words)\n",
    "    return corpus"
   ]
  },
  {
   "cell_type": "code",
   "execution_count": 7,
   "metadata": {},
   "outputs": [
    {
     "name": "stderr",
     "output_type": "stream",
     "text": [
      "100%|██████████| 10876/10876 [00:02<00:00, 4403.06it/s]\n"
     ]
    }
   ],
   "source": [
    "corpus=create_corpus(data)"
   ]
  },
  {
   "cell_type": "code",
   "execution_count": 8,
   "metadata": {},
   "outputs": [],
   "source": [
    "import numpy as np\n",
    "embedding_dict={}\n",
    "with open('../input/glove6b200d/glove.6B.200d.txt','r') as f:\n",
    "    for line in f:\n",
    "        values=line.split()\n",
    "        word=values[0]\n",
    "        vectors=np.asarray(values[1:],'float32')\n",
    "        embedding_dict[word]=vectors\n",
    "f.close()"
   ]
  },
  {
   "cell_type": "code",
   "execution_count": 9,
   "metadata": {},
   "outputs": [
    {
     "name": "stderr",
     "output_type": "stream",
     "text": [
      "Using TensorFlow backend.\n"
     ]
    }
   ],
   "source": [
    "from keras.preprocessing.text import Tokenizer\n",
    "from keras.preprocessing.sequence import pad_sequences\n",
    "MAX_LEN=40\n",
    "tokenizer_obj=Tokenizer()\n",
    "tokenizer_obj.fit_on_texts(corpus)\n",
    "sequences=tokenizer_obj.texts_to_sequences(corpus)\n",
    "\n",
    "tweet_pad=pad_sequences(sequences,maxlen=MAX_LEN,truncating='post',padding='post')"
   ]
  },
  {
   "cell_type": "code",
   "execution_count": 10,
   "metadata": {},
   "outputs": [
    {
     "name": "stdout",
     "output_type": "stream",
     "text": [
      "Number of unique words: 14093\n"
     ]
    }
   ],
   "source": [
    "word_index=tokenizer_obj.word_index\n",
    "print('Number of unique words:',len(word_index))"
   ]
  },
  {
   "cell_type": "code",
   "execution_count": 11,
   "metadata": {},
   "outputs": [
    {
     "name": "stderr",
     "output_type": "stream",
     "text": [
      "100%|██████████| 14093/14093 [00:00<00:00, 143696.98it/s]\n"
     ]
    }
   ],
   "source": [
    "\n",
    "num_words=len(word_index)+1\n",
    "embedding_matrix=np.zeros((num_words,200))\n",
    "\n",
    "for word,i in tqdm(word_index.items()):\n",
    "    if i > num_words:\n",
    "        continue\n",
    "    \n",
    "    emb_vec=embedding_dict.get(word)\n",
    "    if emb_vec is not None:\n",
    "        embedding_matrix[i]=emb_vec"
   ]
  },
  {
   "cell_type": "markdown",
   "metadata": {},
   "source": [
    "# **IMPLEMENTING MODEL**"
   ]
  },
  {
   "cell_type": "code",
   "execution_count": 12,
   "metadata": {},
   "outputs": [
    {
     "name": "stdout",
     "output_type": "stream",
     "text": [
      "Model: \"sequential_1\"\n",
      "_________________________________________________________________\n",
      "Layer (type)                 Output Shape              Param #   \n",
      "=================================================================\n",
      "embedding_1 (Embedding)      (None, 40, 200)           2818800   \n",
      "_________________________________________________________________\n",
      "spatial_dropout1d_1 (Spatial (None, 40, 200)           0         \n",
      "_________________________________________________________________\n",
      "lstm_1 (LSTM)                (None, 64)                67840     \n",
      "_________________________________________________________________\n",
      "dense_1 (Dense)              (None, 1)                 65        \n",
      "=================================================================\n",
      "Total params: 2,886,705\n",
      "Trainable params: 67,905\n",
      "Non-trainable params: 2,818,800\n",
      "_________________________________________________________________\n"
     ]
    }
   ],
   "source": [
    "from keras.models import Sequential\n",
    "from keras.layers import Embedding,LSTM,Dense,SpatialDropout1D,Dropout\n",
    "from keras.initializers import Constant\n",
    "from keras.optimizers import Adam\n",
    "model=Sequential()\n",
    "\n",
    "embedding=Embedding(num_words,200,embeddings_initializer=Constant(embedding_matrix),\n",
    "                   input_length=MAX_LEN,trainable=False)\n",
    "\n",
    "model.add(embedding)\n",
    "model.add(SpatialDropout1D(0.2))\n",
    "model.add(LSTM(64,dropout=0.2, recurrent_dropout=0.2))\n",
    "\n",
    "\n",
    "model.add(Dense(1, activation='sigmoid'))\n",
    "\n",
    "\n",
    "\n",
    "optimzer=Adam(learning_rate=0.001)\n",
    "\n",
    "model.compile(loss='binary_crossentropy',optimizer=optimzer,metrics=['accuracy'])\n",
    "model.summary()"
   ]
  },
  {
   "cell_type": "markdown",
   "metadata": {},
   "source": [
    "# **USING CALLBACKS**"
   ]
  },
  {
   "cell_type": "code",
   "execution_count": 13,
   "metadata": {},
   "outputs": [],
   "source": [
    "from keras.callbacks import ModelCheckpoint,EarlyStopping\n",
    "filepath=\"weights-improvement-{epoch:02d}-{val_accuracy:.2f}.hdf5\"\n",
    "checkpoint = ModelCheckpoint(filepath, monitor='val_accuracy', verbose=1, save_best_only=True, mode='max')\n",
    "es = EarlyStopping(monitor='val_accuracy', mode='max', verbose=1, patience=30)\n",
    "callbacks_list = [checkpoint,es]"
   ]
  },
  {
   "cell_type": "code",
   "execution_count": 14,
   "metadata": {},
   "outputs": [],
   "source": [
    "\n",
    "tweet =data.iloc[:7613,:]\n",
    "test = data.iloc[7613:,:]"
   ]
  },
  {
   "cell_type": "code",
   "execution_count": 15,
   "metadata": {},
   "outputs": [],
   "source": [
    "\n",
    "train=tweet_pad[:tweet.shape[0]]\n",
    "test=tweet_pad[tweet.shape[0]:]"
   ]
  },
  {
   "cell_type": "code",
   "execution_count": 16,
   "metadata": {},
   "outputs": [
    {
     "name": "stdout",
     "output_type": "stream",
     "text": [
      "Shape of train (6090, 40)\n",
      "Shape of Validation  (1523, 40)\n"
     ]
    }
   ],
   "source": [
    "from sklearn.model_selection import train_test_split\n",
    "X_train,X_test,y_train,y_test=train_test_split(train,tweet['target'].values,test_size=0.2)\n",
    "print('Shape of train',X_train.shape)\n",
    "print(\"Shape of Validation \",X_test.shape)"
   ]
  },
  {
   "cell_type": "code",
   "execution_count": 17,
   "metadata": {},
   "outputs": [
    {
     "name": "stdout",
     "output_type": "stream",
     "text": [
      "Train on 6090 samples, validate on 1523 samples\n",
      "Epoch 1/20\n",
      "6090/6090 [==============================] - 5s 777us/step - loss: 0.6063 - accuracy: 0.6759 - val_loss: 0.4757 - val_accuracy: 0.7905\n",
      "\n",
      "Epoch 00001: val_accuracy improved from -inf to 0.79054, saving model to weights-improvement-01-0.79.hdf5\n",
      "Epoch 2/20\n",
      "6090/6090 [==============================] - 4s 609us/step - loss: 0.4999 - accuracy: 0.7760 - val_loss: 0.4564 - val_accuracy: 0.7938\n",
      "\n",
      "Epoch 00002: val_accuracy improved from 0.79054 to 0.79383, saving model to weights-improvement-02-0.79.hdf5\n",
      "Epoch 3/20\n",
      "6090/6090 [==============================] - 4s 608us/step - loss: 0.4813 - accuracy: 0.7913 - val_loss: 0.4548 - val_accuracy: 0.7945\n",
      "\n",
      "Epoch 00003: val_accuracy improved from 0.79383 to 0.79448, saving model to weights-improvement-03-0.79.hdf5\n",
      "Epoch 4/20\n",
      "6090/6090 [==============================] - 4s 599us/step - loss: 0.4744 - accuracy: 0.7911 - val_loss: 0.4561 - val_accuracy: 0.7965\n",
      "\n",
      "Epoch 00004: val_accuracy improved from 0.79448 to 0.79645, saving model to weights-improvement-04-0.80.hdf5\n",
      "Epoch 5/20\n",
      "6090/6090 [==============================] - 4s 597us/step - loss: 0.4660 - accuracy: 0.7910 - val_loss: 0.4551 - val_accuracy: 0.7892\n",
      "\n",
      "Epoch 00005: val_accuracy did not improve from 0.79645\n",
      "Epoch 6/20\n",
      "6090/6090 [==============================] - 4s 603us/step - loss: 0.4577 - accuracy: 0.7975 - val_loss: 0.4511 - val_accuracy: 0.7951\n",
      "\n",
      "Epoch 00006: val_accuracy did not improve from 0.79645\n",
      "Epoch 7/20\n",
      "6090/6090 [==============================] - 4s 675us/step - loss: 0.4545 - accuracy: 0.7980 - val_loss: 0.4380 - val_accuracy: 0.7965\n",
      "\n",
      "Epoch 00007: val_accuracy did not improve from 0.79645\n",
      "Epoch 8/20\n",
      "6090/6090 [==============================] - 4s 621us/step - loss: 0.4458 - accuracy: 0.8025 - val_loss: 0.4383 - val_accuracy: 0.7997\n",
      "\n",
      "Epoch 00008: val_accuracy improved from 0.79645 to 0.79974, saving model to weights-improvement-08-0.80.hdf5\n",
      "Epoch 9/20\n",
      "6090/6090 [==============================] - 4s 603us/step - loss: 0.4388 - accuracy: 0.8049 - val_loss: 0.4372 - val_accuracy: 0.8011\n",
      "\n",
      "Epoch 00009: val_accuracy improved from 0.79974 to 0.80105, saving model to weights-improvement-09-0.80.hdf5\n",
      "Epoch 10/20\n",
      "6090/6090 [==============================] - 4s 605us/step - loss: 0.4421 - accuracy: 0.8039 - val_loss: 0.4355 - val_accuracy: 0.8004\n",
      "\n",
      "Epoch 00010: val_accuracy did not improve from 0.80105\n",
      "Epoch 11/20\n",
      "6090/6090 [==============================] - 4s 600us/step - loss: 0.4383 - accuracy: 0.8072 - val_loss: 0.4333 - val_accuracy: 0.8070\n",
      "\n",
      "Epoch 00011: val_accuracy improved from 0.80105 to 0.80696, saving model to weights-improvement-11-0.81.hdf5\n",
      "Epoch 12/20\n",
      "6090/6090 [==============================] - 4s 600us/step - loss: 0.4248 - accuracy: 0.8138 - val_loss: 0.4441 - val_accuracy: 0.7984\n",
      "\n",
      "Epoch 00012: val_accuracy did not improve from 0.80696\n",
      "Epoch 13/20\n",
      "6090/6090 [==============================] - 4s 614us/step - loss: 0.4246 - accuracy: 0.8148 - val_loss: 0.4473 - val_accuracy: 0.7951\n",
      "\n",
      "Epoch 00013: val_accuracy did not improve from 0.80696\n",
      "Epoch 14/20\n",
      "6090/6090 [==============================] - 4s 602us/step - loss: 0.4124 - accuracy: 0.8195 - val_loss: 0.4305 - val_accuracy: 0.8063\n",
      "\n",
      "Epoch 00014: val_accuracy did not improve from 0.80696\n",
      "Epoch 15/20\n",
      "6090/6090 [==============================] - 4s 597us/step - loss: 0.4171 - accuracy: 0.8184 - val_loss: 0.4314 - val_accuracy: 0.8011\n",
      "\n",
      "Epoch 00015: val_accuracy did not improve from 0.80696\n",
      "Epoch 16/20\n",
      "6090/6090 [==============================] - 4s 598us/step - loss: 0.4107 - accuracy: 0.8177 - val_loss: 0.4358 - val_accuracy: 0.8096\n",
      "\n",
      "Epoch 00016: val_accuracy improved from 0.80696 to 0.80959, saving model to weights-improvement-16-0.81.hdf5\n",
      "Epoch 17/20\n",
      "6090/6090 [==============================] - 4s 597us/step - loss: 0.4021 - accuracy: 0.8236 - val_loss: 0.4301 - val_accuracy: 0.8089\n",
      "\n",
      "Epoch 00017: val_accuracy did not improve from 0.80959\n",
      "Epoch 18/20\n",
      "6090/6090 [==============================] - 4s 599us/step - loss: 0.3949 - accuracy: 0.8307 - val_loss: 0.4341 - val_accuracy: 0.8109\n",
      "\n",
      "Epoch 00018: val_accuracy improved from 0.80959 to 0.81090, saving model to weights-improvement-18-0.81.hdf5\n",
      "Epoch 19/20\n",
      "6090/6090 [==============================] - 4s 632us/step - loss: 0.3882 - accuracy: 0.8309 - val_loss: 0.4381 - val_accuracy: 0.8122\n",
      "\n",
      "Epoch 00019: val_accuracy improved from 0.81090 to 0.81221, saving model to weights-improvement-19-0.81.hdf5\n",
      "Epoch 20/20\n",
      "6090/6090 [==============================] - 4s 605us/step - loss: 0.3865 - accuracy: 0.8373 - val_loss: 0.4364 - val_accuracy: 0.8116\n",
      "\n",
      "Epoch 00020: val_accuracy did not improve from 0.81221\n"
     ]
    }
   ],
   "source": [
    "history=model.fit(X_train,y_train,batch_size=100,epochs=20,callbacks=callbacks_list,validation_data=(X_test,y_test),verbose=1)"
   ]
  },
  {
   "cell_type": "code",
   "execution_count": 18,
   "metadata": {},
   "outputs": [
    {
     "data": {
      "image/png": "[encoded data removed]",
      "text/plain": [
       "<Figure size 432x288 with 1 Axes>"
      ]
     },
     "metadata": {
      "needs_background": "light"
     },
     "output_type": "display_data"
    }
   ],
   "source": [
    "plt.plot(history.history['accuracy'])\n",
    "plt.plot(history.history['val_accuracy'])\n",
    "plt.title('model accuracy')\n",
    "plt.ylabel('accuracy')\n",
    "plt.xlabel('epoch')\n",
    "plt.legend(['train', 'test'], loc='upper left')\n",
    "plt.show()"
   ]
  },
  {
   "cell_type": "code",
   "execution_count": 19,
   "metadata": {},
   "outputs": [
    {
     "data": {
      "image/png": "[encoded data removed]",
      "text/plain": [
       "<Figure size 432x288 with 1 Axes>"
      ]
     },
     "metadata": {
      "needs_background": "light"
     },
     "output_type": "display_data"
    }
   ],
   "source": [
    "plt.plot(history.history['loss'])\n",
    "plt.plot(history.history['val_loss'])\n",
    "plt.title('model loss')\n",
    "plt.ylabel('loss')\n",
    "plt.xlabel('epoch')\n",
    "plt.legend(['train', 'test'], loc='upper left')\n",
    "plt.show()"
   ]
  },
  {
   "cell_type": "markdown",
   "metadata": {},
   "source": [
    "# **LOADING BEST MODEL AND PREDICTING RESULTS**"
   ]
  },
  {
   "cell_type": "code",
   "execution_count": 20,
   "metadata": {},
   "outputs": [],
   "source": [
    "# from keras.models import load_model\n",
    "# model = load_model('../input/finalmodel/weights-improvement-21-0.84.hdf5')"
   ]
  },
  {
   "cell_type": "code",
   "execution_count": 21,
   "metadata": {},
   "outputs": [],
   "source": [
    "sample_sub=pd.read_csv('../input/nlp-getting-started/sample_submission.csv')"
   ]
  },
  {
   "cell_type": "code",
   "execution_count": 22,
   "metadata": {},
   "outputs": [],
   "source": [
    "y_pre = model.predict(test)\n",
    "y_pre=np.round(y_pre).astype(int).reshape(3263)\n",
    "sub=pd.DataFrame({'id':sample_sub['id'].values.tolist(),'target':y_pre})\n",
    "sub.to_csv('submission.csv',index=False)"
   ]
  },
  {
   "cell_type": "markdown",
   "metadata": {},
   "source": [
    "##DON'T FORGET TO UPVOTE##\n",
    "##1ST NOTEBOOK KERNEL##"
   ]
  }
 ],
 "metadata": {
  "kernelspec": {
   "display_name": "Python 3",
   "language": "python",
   "name": "python3"
  },
  "language_info": {
   "codemirror_mode": {
    "name": "ipython",
    "version": 3
   },
   "file_extension": ".py",
   "mimetype": "text/x-python",
   "name": "python",
   "nbconvert_exporter": "python",
   "pygments_lexer": "ipython3",
   "version": "3.6.6"
  }
 },
 "nbformat": 4,
 "nbformat_minor": 4
}
